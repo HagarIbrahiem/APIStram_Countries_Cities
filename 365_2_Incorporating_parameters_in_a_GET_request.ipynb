{
  "cells": [
    {
      "cell_type": "markdown",
      "metadata": {
        "id": "view-in-github",
        "colab_type": "text"
      },
      "source": [
        "<a href=\"https://colab.research.google.com/github/HagarIbrahiem/APIStram_Countries_Cities/blob/master/365_2_Incorporating_parameters_in_a_GET_request.ipynb\" target=\"_parent\"><img src=\"https://colab.research.google.com/assets/colab-badge.svg\" alt=\"Open In Colab\"/></a>"
      ]
    },
    {
      "cell_type": "markdown",
      "metadata": {
        "id": "WUoM5an1tYkC"
      },
      "source": [
        "# Pulling data from public APIs (without registration) - GET request"
      ]
    },
    {
      "cell_type": "code",
      "execution_count": 72,
      "metadata": {
        "id": "t9xUzoRWtYkE"
      },
      "outputs": [],
      "source": [
        "# loading the packages\n",
        "# requests provides us with the capabilities of sending an HTTP request to a server\n",
        "import requests"
      ]
    },
    {
      "cell_type": "markdown",
      "metadata": {
        "id": "ruiOUiAjtYkF"
      },
      "source": [
        "## Extracting data on currency exchange rates"
      ]
    },
    {
      "cell_type": "code",
      "execution_count": 73,
      "metadata": {
        "id": "kgg_ToYUtYkF"
      },
      "outputs": [],
      "source": [
        "# We will use an API containing currency exchange rates as published by the European Central Bank\n",
        "# Documentation at https://exchangeratesapi.io"
      ]
    },
    {
      "cell_type": "markdown",
      "metadata": {
        "id": "xjrDgytJtYkF"
      },
      "source": [
        "### Sending a GET request"
      ]
    },
    {
      "cell_type": "code",
      "execution_count": 74,
      "metadata": {
        "id": "a0dOFQvQtYkF"
      },
      "outputs": [],
      "source": [
        "# Define the base URL\n",
        "# Base URL: the part of the URL common to all requests, not containing the parameters\n",
        "base_url = \"https://api.exchangeratesapi.io/latest\"\n"
      ]
    },
    {
      "cell_type": "code",
      "execution_count": 75,
      "metadata": {
        "id": "Pbw-PlfvtYkF"
      },
      "outputs": [],
      "source": [
        "# We can make a GET request to this API endpoint with requests.get\n",
        "response = requests.get(base_url)\n",
        "\n",
        "# This method returns the response from the server\n",
        "# We store this response in a variable for future processing"
      ]
    },
    {
      "cell_type": "markdown",
      "metadata": {
        "id": "ueRoyHSYtYkF"
      },
      "source": [
        "### Investigating the response"
      ]
    },
    {
      "cell_type": "code",
      "execution_count": 76,
      "metadata": {
        "colab": {
          "base_uri": "https://localhost:8080/"
        },
        "id": "jOld1kVStYkF",
        "outputId": "ca5f6b6c-e834-42ec-f0db-914def07ebcb"
      },
      "outputs": [
        {
          "output_type": "execute_result",
          "data": {
            "text/plain": [
              "True"
            ]
          },
          "metadata": {},
          "execution_count": 76
        }
      ],
      "source": [
        "# Checking if the request went through ok\n",
        "response.ok"
      ]
    },
    {
      "cell_type": "code",
      "execution_count": 77,
      "metadata": {
        "colab": {
          "base_uri": "https://localhost:8080/"
        },
        "id": "WmpP81gAtYkG",
        "outputId": "c49e1443-45c5-4ed7-af97-3b1a368bd0ff"
      },
      "outputs": [
        {
          "output_type": "execute_result",
          "data": {
            "text/plain": [
              "200"
            ]
          },
          "metadata": {},
          "execution_count": 77
        }
      ],
      "source": [
        "# Checking the status code of the response\n",
        "response.status_code"
      ]
    },
    {
      "cell_type": "code",
      "execution_count": 78,
      "metadata": {
        "colab": {
          "base_uri": "https://localhost:8080/",
          "height": 54
        },
        "id": "wHr9peSJtYkG",
        "outputId": "47beb04e-59bf-4009-c258-e56aa3b670ae"
      },
      "outputs": [
        {
          "output_type": "execute_result",
          "data": {
            "text/plain": [
              "'{\\n  \"success\": false,\\n  \"error\": {\\n    \"code\": 101,\\n    \"type\": \"missing_access_key\",\\n    \"info\": \"You have not supplied an API Access Key. [Required format: access_key=YOUR_ACCESS_KEY]\"\\n  }\\n}\\n'"
            ],
            "application/vnd.google.colaboratory.intrinsic+json": {
              "type": "string"
            }
          },
          "metadata": {},
          "execution_count": 78
        }
      ],
      "source": [
        "# Inspecting the content body of the response (as a regular 'string')\n",
        "response.text"
      ]
    },
    {
      "cell_type": "code",
      "execution_count": 79,
      "metadata": {
        "colab": {
          "base_uri": "https://localhost:8080/"
        },
        "id": "DqZ-lqiNtYkG",
        "outputId": "63ad0b02-5556-4de7-c824-8672e8fb4299"
      },
      "outputs": [
        {
          "output_type": "execute_result",
          "data": {
            "text/plain": [
              "b'{\\n  \"success\": false,\\n  \"error\": {\\n    \"code\": 101,\\n    \"type\": \"missing_access_key\",\\n    \"info\": \"You have not supplied an API Access Key. [Required format: access_key=YOUR_ACCESS_KEY]\"\\n  }\\n}\\n'"
            ]
          },
          "metadata": {},
          "execution_count": 79
        }
      ],
      "source": [
        "# Inspecting the content of the response (in 'bytes' format)\n",
        "response.content"
      ]
    },
    {
      "cell_type": "code",
      "execution_count": 80,
      "metadata": {
        "id": "KtrnFIWJtYkH"
      },
      "outputs": [],
      "source": [
        "# The data is presented in JSON format"
      ]
    },
    {
      "cell_type": "markdown",
      "metadata": {
        "id": "EUk7CPdqtYkH"
      },
      "source": [
        "### Handling the JSON"
      ]
    },
    {
      "cell_type": "code",
      "execution_count": 81,
      "metadata": {
        "colab": {
          "base_uri": "https://localhost:8080/"
        },
        "id": "FOGLzChetYkH",
        "outputId": "f2406baa-a999-455d-840a-3a81ecaabf8c"
      },
      "outputs": [
        {
          "output_type": "execute_result",
          "data": {
            "text/plain": [
              "{'success': False,\n",
              " 'error': {'code': 101,\n",
              "  'type': 'missing_access_key',\n",
              "  'info': 'You have not supplied an API Access Key. [Required format: access_key=YOUR_ACCESS_KEY]'}}"
            ]
          },
          "metadata": {},
          "execution_count": 81
        }
      ],
      "source": [
        "# Requests has in-build method to directly convert the response to JSON format\n",
        "response.json()"
      ]
    },
    {
      "cell_type": "code",
      "execution_count": 82,
      "metadata": {
        "colab": {
          "base_uri": "https://localhost:8080/"
        },
        "id": "6eGC316ftYkH",
        "outputId": "36fdb6e6-a5c8-4db4-f12b-ff2ae1ed997d"
      },
      "outputs": [
        {
          "output_type": "execute_result",
          "data": {
            "text/plain": [
              "dict"
            ]
          },
          "metadata": {},
          "execution_count": 82
        }
      ],
      "source": [
        "# In Python, this JSON is stored as a dictionary\n",
        "type(response.json())"
      ]
    },
    {
      "cell_type": "code",
      "execution_count": 83,
      "metadata": {
        "id": "ex_hxup2tYkH"
      },
      "outputs": [],
      "source": [
        "# A useful library for JSON manipulation and pretty print\n",
        "import json\n",
        "\n",
        "# It has two main methods:\n",
        "# .loads(), which creates a Python dictionary from a JSON format string (just as response.json() does)\n",
        "# .dumps(), which creates a JSON format string out of a Python dictionary"
      ]
    },
    {
      "cell_type": "code",
      "execution_count": 84,
      "metadata": {
        "colab": {
          "base_uri": "https://localhost:8080/",
          "height": 54
        },
        "id": "zT7zHyf0tYkI",
        "outputId": "aa1df4f0-97b4-4718-9eb6-4c2f32ee369a"
      },
      "outputs": [
        {
          "output_type": "execute_result",
          "data": {
            "text/plain": [
              "'{\\n    \"success\": false,\\n    \"error\": {\\n        \"code\": 101,\\n        \"type\": \"missing_access_key\",\\n        \"info\": \"You have not supplied an API Access Key. [Required format: access_key=YOUR_ACCESS_KEY]\"\\n    }\\n}'"
            ],
            "application/vnd.google.colaboratory.intrinsic+json": {
              "type": "string"
            }
          },
          "metadata": {},
          "execution_count": 84
        }
      ],
      "source": [
        "# .dumps() has options to make the string 'prettier', more readable\n",
        "# We can choose the number of spaces to be used as indentation\n",
        "json.dumps(response.json(), indent=4)"
      ]
    },
    {
      "cell_type": "code",
      "execution_count": 85,
      "metadata": {
        "colab": {
          "base_uri": "https://localhost:8080/"
        },
        "id": "ShhWRCo_tYkI",
        "outputId": "e516ccfa-73d2-4402-8c6a-68c182be0694"
      },
      "outputs": [
        {
          "output_type": "stream",
          "name": "stdout",
          "text": [
            "{\n",
            "    \"success\": false,\n",
            "    \"error\": {\n",
            "        \"code\": 101,\n",
            "        \"type\": \"missing_access_key\",\n",
            "        \"info\": \"You have not supplied an API Access Key. [Required format: access_key=YOUR_ACCESS_KEY]\"\n",
            "    }\n",
            "}\n"
          ]
        }
      ],
      "source": [
        "# In order to visualize these changes, we need to print the string\n",
        "print(json.dumps(response.json(), indent=4))"
      ]
    },
    {
      "cell_type": "code",
      "execution_count": 86,
      "metadata": {
        "colab": {
          "base_uri": "https://localhost:8080/"
        },
        "id": "wbWEitd2tYkI",
        "outputId": "00903134-b579-472d-bf02-e72802e5f986"
      },
      "outputs": [
        {
          "output_type": "execute_result",
          "data": {
            "text/plain": [
              "dict_keys(['success', 'error'])"
            ]
          },
          "metadata": {},
          "execution_count": 86
        }
      ],
      "source": [
        "# It contains 3 keys; the value for the 'rates' key is another dictionary\n",
        "response.json().keys()"
      ]
    },
    {
      "cell_type": "markdown",
      "metadata": {
        "id": "BixgiGTXtYkI"
      },
      "source": [
        "### Incorporating parameters in the GET request"
      ]
    },
    {
      "cell_type": "code",
      "execution_count": 87,
      "metadata": {
        "colab": {
          "base_uri": "https://localhost:8080/",
          "height": 36
        },
        "id": "_23pZYjgtYkI",
        "outputId": "30a1424d-0b6f-4169-e497-86d5a6de679d"
      },
      "outputs": [
        {
          "output_type": "execute_result",
          "data": {
            "text/plain": [
              "'https://api.exchangeratesapi.io/latest?symbols=USD,GBP'"
            ],
            "application/vnd.google.colaboratory.intrinsic+json": {
              "type": "string"
            }
          },
          "metadata": {},
          "execution_count": 87
        }
      ],
      "source": [
        "# Request parameters are added to the URL after a question mark '?'\n",
        "# In this case, we request for the exchange rates of the US Dollar (USD) and Pound Sterling (GBP) only\n",
        "param_url = base_url + \"?symbols=USD,GBP\"\n",
        "param_url"
      ]
    },
    {
      "cell_type": "code",
      "execution_count": 88,
      "metadata": {
        "colab": {
          "base_uri": "https://localhost:8080/"
        },
        "id": "Qgw8ckJ8tYkI",
        "outputId": "9ce0eb9b-36de-4a48-de2a-42b1880d1489"
      },
      "outputs": [
        {
          "output_type": "execute_result",
          "data": {
            "text/plain": [
              "200"
            ]
          },
          "metadata": {},
          "execution_count": 88
        }
      ],
      "source": [
        "# Making a request to the server with the new URL, containing the parameters\n",
        "response = requests.get(param_url)\n",
        "response.status_code"
      ]
    },
    {
      "cell_type": "markdown",
      "source": [
        "## First Way"
      ],
      "metadata": {
        "id": "2sKLyjUzySGz"
      }
    },
    {
      "cell_type": "code",
      "source": [
        "base_url = \"https://api.open-meteo.com/v1/forecast\"\n",
        "params = {\n",
        "\t\"latitude\": 52.52,\n",
        "\t\"longitude\": 13.41,\n",
        "\t\"current\": \"\"\n",
        "}\n",
        "response = requests.get(base_url, params=params)\n",
        "response.status_code\n"
      ],
      "metadata": {
        "colab": {
          "base_uri": "https://localhost:8080/"
        },
        "id": "OhaCkylVwrH9",
        "outputId": "5d84b6ed-c1fc-49fd-8eb1-84d65f28b25a"
      },
      "execution_count": 107,
      "outputs": [
        {
          "output_type": "execute_result",
          "data": {
            "text/plain": [
              "200"
            ]
          },
          "metadata": {},
          "execution_count": 107
        }
      ]
    },
    {
      "cell_type": "code",
      "execution_count": 108,
      "metadata": {
        "colab": {
          "base_uri": "https://localhost:8080/"
        },
        "id": "wi56oYgjtYkI",
        "outputId": "79972d59-33c3-4f3b-d3ad-64bc278e70d9"
      },
      "outputs": [
        {
          "output_type": "execute_result",
          "data": {
            "text/plain": [
              "{'latitude': 52.52,\n",
              " 'longitude': 13.419998,\n",
              " 'generationtime_ms': 0.0010728836059570312,\n",
              " 'utc_offset_seconds': 0,\n",
              " 'timezone': 'GMT',\n",
              " 'timezone_abbreviation': 'GMT',\n",
              " 'elevation': 38.0,\n",
              " 'current_units': {'time': 'iso8601', 'interval': 'seconds'},\n",
              " 'current': {'time': '2023-11-17T01:00', 'interval': 900}}"
            ]
          },
          "metadata": {},
          "execution_count": 108
        }
      ],
      "source": [
        "# Saving the response data\n",
        "data = response.json()\n",
        "data"
      ]
    },
    {
      "cell_type": "code",
      "execution_count": 109,
      "metadata": {
        "colab": {
          "base_uri": "https://localhost:8080/",
          "height": 36
        },
        "id": "8tItfGpitYkJ",
        "outputId": "c9e2a97e-3f0a-4830-9633-41d6ba579d8b"
      },
      "outputs": [
        {
          "output_type": "execute_result",
          "data": {
            "text/plain": [
              "'GMT'"
            ],
            "application/vnd.google.colaboratory.intrinsic+json": {
              "type": "string"
            }
          },
          "metadata": {},
          "execution_count": 109
        }
      ],
      "source": [
        "# 'data' is a dictionary\n",
        "data['timezone']"
      ]
    },
    {
      "cell_type": "code",
      "execution_count": 110,
      "metadata": {
        "colab": {
          "base_uri": "https://localhost:8080/"
        },
        "id": "WiIphlSVtYkJ",
        "outputId": "11fc1d46-d170-407d-91f0-9f7b5e255795"
      },
      "outputs": [
        {
          "output_type": "execute_result",
          "data": {
            "text/plain": [
              "{'time': '2023-11-17T01:00', 'interval': 900}"
            ]
          },
          "metadata": {},
          "execution_count": 110
        }
      ],
      "source": [
        "data['current']"
      ]
    },
    {
      "cell_type": "code",
      "execution_count": 111,
      "metadata": {
        "colab": {
          "base_uri": "https://localhost:8080/",
          "height": 36
        },
        "id": "6yYZIS5ttYkJ",
        "outputId": "903fa29f-03d2-4486-b414-56946895271e"
      },
      "outputs": [
        {
          "output_type": "execute_result",
          "data": {
            "text/plain": [
              "'2023-11-17T01:00'"
            ],
            "application/vnd.google.colaboratory.intrinsic+json": {
              "type": "string"
            }
          },
          "metadata": {},
          "execution_count": 111
        }
      ],
      "source": [
        "data['current']['time']"
      ]
    },
    {
      "cell_type": "markdown",
      "source": [
        "## Second Way"
      ],
      "metadata": {
        "id": "Fmbcn9OGyUgt"
      }
    },
    {
      "cell_type": "code",
      "execution_count": 112,
      "metadata": {
        "id": "qD3j5jpYtYkJ"
      },
      "outputs": [],
      "source": [
        "# As per the documentation of this API, we can change the base with the parameter 'base'\n",
        "param_url = base_url + \"?latitude=52.52&longitude=13.41&current=\""
      ]
    },
    {
      "cell_type": "code",
      "execution_count": 113,
      "metadata": {
        "colab": {
          "base_uri": "https://localhost:8080/"
        },
        "id": "EnCqq_FItYkJ",
        "outputId": "7c5041aa-5460-4ff7-8346-4fb8cefd37a3"
      },
      "outputs": [
        {
          "output_type": "execute_result",
          "data": {
            "text/plain": [
              "{'latitude': 52.52,\n",
              " 'longitude': 13.419998,\n",
              " 'generationtime_ms': 0.0010728836059570312,\n",
              " 'utc_offset_seconds': 0,\n",
              " 'timezone': 'GMT',\n",
              " 'timezone_abbreviation': 'GMT',\n",
              " 'elevation': 38.0,\n",
              " 'current_units': {'time': 'iso8601', 'interval': 'seconds'},\n",
              " 'current': {'time': '2023-11-17T01:00', 'interval': 900}}"
            ]
          },
          "metadata": {},
          "execution_count": 113
        }
      ],
      "source": [
        "# Sending a request and saving the response JSON, all at once\n",
        "data = requests.get(param_url).json()\n",
        "data"
      ]
    },
    {
      "cell_type": "code",
      "execution_count": 115,
      "metadata": {
        "colab": {
          "base_uri": "https://localhost:8080/",
          "height": 36
        },
        "id": "0lwr0QeatYkJ",
        "outputId": "335ebfc2-daeb-4e5f-8d5f-0112aab914ac"
      },
      "outputs": [
        {
          "output_type": "execute_result",
          "data": {
            "text/plain": [
              "'seconds'"
            ],
            "application/vnd.google.colaboratory.intrinsic+json": {
              "type": "string"
            }
          },
          "metadata": {},
          "execution_count": 115
        }
      ],
      "source": [
        "usd_to_gbp = data['current_units']['interval']\n",
        "usd_to_gbp"
      ]
    },
    {
      "cell_type": "code",
      "source": [],
      "metadata": {
        "id": "TzKlkLJby0TW"
      },
      "execution_count": null,
      "outputs": []
    }
  ],
  "metadata": {
    "kernelspec": {
      "display_name": "Python 3",
      "language": "python",
      "name": "python3"
    },
    "language_info": {
      "codemirror_mode": {
        "name": "ipython",
        "version": 3
      },
      "file_extension": ".py",
      "mimetype": "text/x-python",
      "name": "python",
      "nbconvert_exporter": "python",
      "pygments_lexer": "ipython3",
      "version": "3.7.3"
    },
    "colab": {
      "provenance": [],
      "include_colab_link": true
    }
  },
  "nbformat": 4,
  "nbformat_minor": 0
}